{
 "cells": [
  {
   "cell_type": "code",
   "execution_count": 1,
   "id": "409b82bc",
   "metadata": {},
   "outputs": [
    {
     "name": "stdout",
     "output_type": "stream",
     "text": [
      "pygame 2.5.0 (SDL 2.28.0, Python 3.10.0)\n",
      "Hello from the pygame community. https://www.pygame.org/contribute.html\n"
     ]
    }
   ],
   "source": [
    "import cv2\n",
    "from deepface import DeepFace\n",
    "import matplotlib.pyplot as plt\n",
    "from tensorflow.keras.models import load_model, Sequential\n",
    "from tensorflow.keras.layers import Conv2D, MaxPooling2D, Flatten, Dense, Dropout, BatchNormalization\n",
    "from tensorflow.keras.preprocessing.image import ImageDataGenerator\n",
    "from tensorflow.keras.callbacks import EarlyStopping, ReduceLROnPlateau\n",
    "import tensorflow as tf\n",
    "import numpy as np\n",
    "import random\n",
    "import os\n",
    "import pygame"
   ]
  },
  {
   "cell_type": "code",
   "execution_count": 2,
   "id": "f2f1a6eb",
   "metadata": {},
   "outputs": [
    {
     "name": "stdout",
     "output_type": "stream",
     "text": [
      " Emotion model loaded successfully\n"
     ]
    }
   ],
   "source": [
    "import os\n",
    "model_path = r\"C:\\Users\\Kishor\\Documents\\emotion_model.h5\"\n",
    "emotion_model = load_model(\"C:\\\\Users\\\\Kishor\\\\Documents\\\\emotion_model.h5\")\n",
    "print(\" Emotion model loaded successfully\")"
   ]
  },
  {
   "cell_type": "code",
   "execution_count": 3,
   "id": "2d43f790",
   "metadata": {},
   "outputs": [
    {
     "name": "stdout",
     "output_type": "stream",
     "text": [
      "Webcam accessed. Please look at the camera...\n",
      "Detected emotion: sad\n",
      "Emotion scores: {'angry': 13.644197583198547, 'disgust': 0.0002472196001690463, 'fear': 1.00481566041708, 'happy': 0.1174811739474535, 'sad': 70.27526497840881, 'surprise': 0.00035057830700679915, 'neutral': 14.957647025585175}\n"
     ]
    },
    {
     "data": {
"text/plain": [
       "<Figure size 640x480 with 1 Axes>"
      ]
     },
     "metadata": {},
     "output_type": "display_data"
    }
   ],
   "source": [
    "def detect_emotion():\n",
    "    try:\n",
    "        import time  \n",
    "        import tempfile  \n",
    "\n",
    "        cap = cv2.VideoCapture(0)\n",
    "        if not cap.isOpened():\n",
    "            raise Exception(\"Could not open video device\")\n",
    "\n",
    "        print(\"Webcam accessed. Please look at the camera...\")\n",
    "        time.sleep(3)\n",
    "\n",
    "        ret, frame = cap.read()\n",
    "        if not ret:\n",
    "            raise Exception(\"Could not read frame from camera\")\n",
    "\n",
    "        with tempfile.NamedTemporaryFile(suffix='.jpg', delete=False) as tmp_file:\n",
    "            temp_img_path = tmp_file.name\n",
    "            cv2.imwrite(temp_img_path, frame)\n",
    "\n",
    "        cap.release()\n",
    "        cv2.destroyAllWindows()\n",
    "\n",
    "        result = DeepFace.analyze(img_path=temp_img_path, actions=['emotion'])\n",
    "        os.remove(temp_img_path)\n",
    "\n",
    "        dominant_emotion = result[0]['dominant_emotion']\n",
    "        emotion_scores = result[0]['emotion']\n",
    "\n",
    "        print(f\"Detected emotion: {dominant_emotion}\")\n",
    "        print(\"Emotion scores:\", emotion_scores)\n",
    "\n",
    "        plt.imshow(cv2.cvtColor(frame, cv2.COLOR_BGR2RGB))\n",
    "        plt.axis('off')\n",
    "        plt.title(f\"Detected Emotion: {dominant_emotion}\")\n",
    "        plt.show()\n",
    "\n",
    "        return dominant_emotion.lower()\n",
    "\n",
    "    except Exception as e:\n",
    "        print(f\"Error in emotion detection: {str(e)}\")\n",
    "        return None\n",
    "detected_emotion = detect_emotion()"
   ]
  },
  {
   "cell_type": "code",
   "execution_count": 5,
   "id": "dcd5c942",
   "metadata": {},
   "outputs": [
    {
     "name": "stdout",
     "output_type": "stream",
     "text": [
      "🎵 Now playing: Coldplay - Clocks (Official Video)(M4A_128K).m4a\n"
     ]
    },
    {
     "data": {
      "text/plain": [
       "True"
      ]
     },
     "execution_count": 5,
     "metadata": {},
     "output_type": "execute_result"
    }
   ],
   "source": [
    "import random\n",
    "import vlc\n",
    "import os\n",
    "\n",
    "emotion_to_song = {\n",
    "    \"happy\": [\n",
    "        r\"C:\\Users\\Kishor\\Music\\happy\\Justin Timberlake - CAN_T STOP THE FEELING_ (from DreamWorks Animation_s *TROLLS*) (Official Video)(M4A_128K).m4a\",\n",
    "        r\"C:\\Users\\Kishor\\Music\\happy\\Mark Ronson - Uptown Funk (Official Video) ft. Bruno Mars(M4A_128K).m4a\",\n",
    "        r\"C:\\Users\\Kishor\\Music\\happy\\Pharrell Williams - Happy (Video)(M4A_128K).m4a\"\n",
    "    ],\n",
    "    \"sad\": [\n",
    "        r\"C:\\Users\\Kishor\\Music\\sad\\Adele - Someone Like You (Official Music Video)(M4A_128K).m4a\",\n",
    "        r\"C:\\Users\\Kishor\\Music\\sad\\Johnny Cash - Hurt(M4A_128K).m4a\",\n",
    "        r\"C:\\Users\\Kishor\\Music\\sad\\Sam Smith - Stay With Me (Official Music Video)(M4A_128K).m4a\"\n",
    "    ],\n",
    "    \"neutral\": [\n",
    "        r\"C:\\Users\\Kishor\\Music\\neutral\\Coldplay - Clocks (Official Video)(M4A_128K).m4a\",\n",
    "        r\"C:\\Users\\Kishor\\Music\\neutral\\Ed Sheeran - Perfect (Official Music Video)(M4A_128K).m4a\",\n",
    "        r\"C:\\Users\\Kishor\\Music\\neutral\\Post Malone_ Swae Lee - Sunflower (Spider-Man_ Into the Spider-Verse) (Official Video)(M4A_128K).m4a\"\n",
    "    ],\n",
    "    \"fear\": [\n",
    "        r\"C:\\Users\\Kishor\\Music\\fear\\Michael Jackson - Thriller (Official Video - Shortened Version)(MP3_320K).mp3\",\n",
    "        r\"C:\\Users\\Kishor\\Music\\fear\\Rihanna - Disturbia(MP3_320K).mp3\",\n",
    "        r\"C:\\Users\\Kishor\\Music\\fear\\Rockwell - Somebody_s Watching Me (Official Music Video)(MP3_320K).mp3\"\n",
    "    ],\n",
    "    \"disgust\": [\n",
    "        r\"C:\\Users\\Kishor\\Music\\disgust\\BTS-UGH-(HipHopKit.com).mp3\",\n",
    "        r\"C:\\Users\\Kishor\\Music\\disgust\\Radiohead - Creep(MP3_320K).mp3\",\n",
    "        r\"C:\\Users\\Kishor\\Music\\disgust\\Three_Days_Grace_-*I_Hate_Everything_About_You*(Rilds.com).mp3\"\n",
    "    ],\n",
    "    \"surprise\": [\n",
    "        r\"C:\\Users\\Kishor\\Music\\surprise\\Jack Garratt -  *Surprise Yourself* (Lyrics)(MP3_320K).mp3\",\n",
    "        r\"C:\\Users\\Kishor\\Music\\surprise\\KT Tunstall - Suddenly I See (Official Video)(MP3_320K).mp3\",\n",
    "        r\"C:\\Users\\Kishor\\Music\\surprise\\Taylor Swift - I Can Do It With A Broken Heart (Official Video)(MP3_320K).mp3\"\n",
    "    ],\n",
    "    \"angry\": [\n",
    "        r\"C:\\Users\\Kishor\\Music\\angry\\Drowning Pool - Bodies (Official HD Music Video)(M4A_128K).m4a\",\n",
    "        r\"C:\\Users\\Kishor\\Music\\angry\\Limp Bizkit - Break Stuff (Official Music Video)-yt.savetube.me.mp3\",\n",
    "        r\"C:\\Users\\Kishor\\Music\\angry\\Rage Against The Machine - Killing In the Name (Official HD Video)(M4A_128K).m4a\",\n",
    "        r\"C:\\Users\\Kishor\\Music\\angry\\Slipknot - Duality [OFFICIAL VIDEO] [HD](M4A_128K).m4a\"\n",
    "    ]\n",
    "}\n",
    "\n",
    "player = None  \n",
    "\n",
    "def play_song(emotion):\n",
    "    global player\n",
    "    if emotion in emotion_to_song:\n",
    "        try:\n",
    "            song = random.choice(emotion_to_song[emotion])\n",
    "            if player:\n",
    "                player.stop()  \n",
    "            \n",
    "            player = vlc.MediaPlayer(song)\n",
    "            player.play()\n",
    "            print(f\"🎵 Now playing: {os.path.basename(song)}\")\n",
    "            return True\n",
    "        except Exception as e:\n",
    "            print(f\" Error playing song: {e}\")\n",
    "            return False\n",
    "    else:\n",
    "        print(\" No songs found for this emotion.\")\n",
    "        return False\n",
    "\n",
    "def stop_song():\n",
    "    global player\n",
    "    if player:\n",
    "        player.stop()\n",
    "        print(\" Music playback stopped.\")\n",
    "    else:\n",
    "        print(\"No music is playing currently.\")\n",
    "\n",
    "\n",
    "\n",
    "play_song(detected_emotion)\n",
    "#stop_song()"
   ]
  },
  {
   "cell_type": "code",
   "execution_count": null,
   "id": "70731732",
   "metadata": {},
   "outputs": [],
   "source": []
  }
 ],
 "metadata": {
  "kernelspec": {
   "display_name": "Python 3",
   "language": "python",
   "name": "python3"
  },
  "language_info": {
   "codemirror_mode": {
    "name": "ipython",
    "version": 3
   },
   "file_extension": ".py",
   "mimetype": "text/x-python",
   "name": "python",
   "nbconvert_exporter": "python",
   "pygments_lexer": "ipython3",
   "version": "3.10.0"
  }
 },
 "nbformat": 4,
 "nbformat_minor": 5
}
